{
 "cells": [
  {
   "cell_type": "markdown",
   "id": "a4cf9a6b",
   "metadata": {},
   "source": [
    "# Napari image viewer\n",
    "\n",
    "Uses the octopuslite dask image loader to automatically sort and load images from multichannel time lapse experiments. Can also use btrack to load associated tracks."
   ]
  },
  {
   "cell_type": "code",
   "execution_count": 1,
   "id": "3a23b02f",
   "metadata": {},
   "outputs": [],
   "source": [
    "import napari\n",
    "from octopuslite import DaskOctopusLiteLoader"
   ]
  },
  {
   "cell_type": "markdown",
   "id": "9cc54637",
   "metadata": {},
   "source": [
    "## Load images"
   ]
  },
  {
   "cell_type": "code",
   "execution_count": 42,
   "id": "5206859a",
   "metadata": {
    "scrolled": true
   },
   "outputs": [
    {
     "name": "stdout",
     "output_type": "stream",
     "text": [
      "Using cropping: (1200, 1600)\n"
     ]
    },
    {
     "data": {
      "text/plain": [
       "[<Channels.BRIGHTFIELD: 0>,\n",
       " <Channels.GFP: 1>,\n",
       " <Channels.RFP: 2>,\n",
       " <Channels.IRFP: 3>,\n",
       " <Channels.MASK: 99>]"
      ]
     },
     "execution_count": 42,
     "metadata": {},
     "output_type": "execute_result"
    }
   ],
   "source": [
    "# define experiment ID and select a position\n",
    "expt = 'ND0011'\n",
    "pos = 'Pos6'\n",
    "# point to where the data is\n",
    "root_dir = '/home/nathan/data'\n",
    "image_path = f'{root_dir}/{expt}/{pos}/{pos}_images'\n",
    "transform_path = f'{root_dir}/{expt}/{pos}/gfp_transform_tensor.npy'\n",
    "tracks_path = f'{root_dir}/{expt}/{pos}/tracks.h5'\n",
    "# lazily load images\n",
    "images = DaskOctopusLiteLoader(image_path, \n",
    "                               transforms = transform_path,\n",
    "                               crop = (1200,1600),\n",
    "                               remove_background = False)\n",
    "images.channels"
   ]
  },
  {
   "cell_type": "code",
   "execution_count": 27,
   "id": "6921a651",
   "metadata": {},
   "outputs": [],
   "source": [
    "gfp = images['gfp']\n",
    "rfp = images['rfp']\n",
    "irfp = images['irfp']\n",
    "masks = images['mask']"
   ]
  },
  {
   "cell_type": "markdown",
   "id": "5c17659d",
   "metadata": {},
   "source": [
    "### Add tracks"
   ]
  },
  {
   "cell_type": "code",
   "execution_count": 28,
   "id": "568a2f65",
   "metadata": {},
   "outputs": [],
   "source": [
    "import btrack\n",
    "from btrack.utils import tracks_to_napari"
   ]
  },
  {
   "cell_type": "code",
   "execution_count": 29,
   "id": "0612ea14",
   "metadata": {
    "scrolled": false
   },
   "outputs": [
    {
     "name": "stderr",
     "output_type": "stream",
     "text": [
      "[INFO][2022/01/25 06:01:16 pm] Opening HDF file: /home/nathan/data/ND0011/Pos6/tracks.h5...\n",
      "[INFO][2022/01/25 06:01:16 pm] Loading tracks/obj_type_1\n",
      "[INFO][2022/01/25 06:01:16 pm] Loading objects/obj_type_1 (320077, 5) (320077 filtered: None)\n",
      "[INFO][2022/01/25 06:01:28 pm] Closing HDF file: /home/nathan/data/ND0011/Pos6/tracks.h5\n"
     ]
    }
   ],
   "source": [
    "with btrack.dataio.HDF5FileHandler(tracks_path, \n",
    "                                   'r', obj_type='obj_type_1'\n",
    "                                  ) as h:\n",
    "    tracks = h.tracks"
   ]
  },
  {
   "cell_type": "code",
   "execution_count": 40,
   "id": "2b98d28c",
   "metadata": {},
   "outputs": [],
   "source": [
    "view_tracks, properties, graph = tracks_to_napari(tracks, ndim = 2)"
   ]
  },
  {
   "cell_type": "markdown",
   "id": "603b486b",
   "metadata": {},
   "source": [
    "## Launch viewer"
   ]
  },
  {
   "cell_type": "code",
   "execution_count": null,
   "id": "8ffa3640",
   "metadata": {},
   "outputs": [],
   "source": [
    "viewer = napari.Viewer()\n",
    "viewer.add_image(gfp, name=\"gfp\", \n",
    "                 contrast_limits=[0,255],\n",
    "                 blending = 'additive', colormap = 'green')\n",
    "viewer.add_image(rfp, name=\"rfp\", \n",
    "                 contrast_limits=[0,55], \n",
    "                 blending = 'additive', colormap = 'magenta')\n",
    "viewer.add_image(irfp, name=\"irfp\", \n",
    "                 contrast_limits=[0,255], \n",
    "                 blending = 'additive', colormap = 'cyan')\n",
    "viewer.add_image(masks, name = 'masks',\n",
    "                contrast_limits=[0,255],\n",
    "               blending = 'additive',)\n",
    "viewer.add_tracks(view_tracks)"
   ]
  }
 ],
 "metadata": {
  "kernelspec": {
   "display_name": "CellX",
   "language": "python",
   "name": "cellx"
  },
  "language_info": {
   "codemirror_mode": {
    "name": "ipython",
    "version": 3
   },
   "file_extension": ".py",
   "mimetype": "text/x-python",
   "name": "python",
   "nbconvert_exporter": "python",
   "pygments_lexer": "ipython3",
   "version": "3.9.7"
  }
 },
 "nbformat": 4,
 "nbformat_minor": 5
}
