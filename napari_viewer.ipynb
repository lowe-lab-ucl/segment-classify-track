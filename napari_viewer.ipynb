{
 "cells": [
  {
   "cell_type": "markdown",
   "id": "a4cf9a6b",
   "metadata": {},
   "source": [
    "# Napari image viewer\n",
    "\n",
    "Uses the octopuslite dask image loader to automatically sort and load images from multichannel time lapse experiments. Can also use btrack to load associated tracks and segmentation images."
   ]
  },
  {
   "cell_type": "code",
   "execution_count": 1,
   "id": "3a23b02f",
   "metadata": {},
   "outputs": [],
   "source": [
    "import napari\n",
    "from octopuslite import DaskOctopusLiteLoader"
   ]
  },
  {
   "cell_type": "markdown",
   "id": "9cc54637",
   "metadata": {},
   "source": [
    "# Load images"
   ]
  },
  {
   "cell_type": "code",
   "execution_count": 2,
   "id": "5206859a",
   "metadata": {
    "scrolled": true
   },
   "outputs": [
    {
     "name": "stdout",
     "output_type": "stream",
     "text": [
      "Using cropping: (1200, 1600)\n"
     ]
    }
   ],
   "source": [
    "expt = 'ND0009'\n",
    "pos = 'Pos3'\n",
    "images = DaskOctopusLiteLoader(f'/home/nathan/data/kraken/ras/{expt}/{pos}/{pos}_final', crop=(1200,1600), remove_background=False)"
   ]
  },
  {
   "cell_type": "code",
   "execution_count": 9,
   "id": "6921a651",
   "metadata": {},
   "outputs": [],
   "source": [
    "gfp = images['gfp']\n",
    "rfp = images['rfp']\n",
    "irfp = images['irfp']\n",
    "masks = images['mask']"
   ]
  },
  {
   "cell_type": "markdown",
   "id": "5c17659d",
   "metadata": {},
   "source": [
    "### Add tracks"
   ]
  },
  {
   "cell_type": "code",
   "execution_count": 4,
   "id": "568a2f65",
   "metadata": {},
   "outputs": [],
   "source": [
    "import btrack\n",
    "from btrack.utils import tracks_to_napari"
   ]
  },
  {
   "cell_type": "markdown",
   "id": "bc41789f",
   "metadata": {},
   "source": [
    "#### GFP tracks"
   ]
  },
  {
   "cell_type": "code",
   "execution_count": 7,
   "id": "0612ea14",
   "metadata": {
    "scrolled": true
   },
   "outputs": [
    {
     "name": "stderr",
     "output_type": "stream",
     "text": [
      "[INFO][2022/01/13 06:25:36 PM] Opening HDF file: /home/nathan/data/kraken/ras/ND0009/Pos3/gfp_tracks.h5...\n",
      "[INFO][2022/01/13 06:25:36 PM] Loading tracks/obj_type_1\n",
      "[INFO][2022/01/13 06:25:36 PM] Loading objects/obj_type_1 (195987, 5) (195987 filtered: None)\n",
      "[INFO][2022/01/13 06:25:41 PM] Closing HDF file: /home/nathan/data/kraken/ras/ND0009/Pos3/gfp_tracks.h5\n"
     ]
    }
   ],
   "source": [
    "with btrack.dataio.HDF5FileHandler(f'/home/nathan/data/kraken/ras/{expt}/{pos}/tracks.h5', 'r', obj_type='obj_type_1') as h:\n",
    "    gfp_tracks = h.tracks"
   ]
  },
  {
   "cell_type": "code",
   "execution_count": 8,
   "id": "2b98d28c",
   "metadata": {},
   "outputs": [],
   "source": [
    "gfp_tracks, gfp_properties, gfp_graph = tracks_to_napari(gfp_tracks, ndim = 2)"
   ]
  },
  {
   "cell_type": "markdown",
   "id": "4b0d99aa",
   "metadata": {},
   "source": [
    "#### RFP tracks"
   ]
  },
  {
   "cell_type": "code",
   "execution_count": 7,
   "id": "8be591f3",
   "metadata": {
    "scrolled": true
   },
   "outputs": [
    {
     "name": "stderr",
     "output_type": "stream",
     "text": [
      "[INFO][2022/01/13 06:25:36 PM] Opening HDF file: /home/nathan/data/kraken/ras/ND0009/Pos3/gfp_tracks.h5...\n",
      "[INFO][2022/01/13 06:25:36 PM] Loading tracks/obj_type_1\n",
      "[INFO][2022/01/13 06:25:36 PM] Loading objects/obj_type_1 (195987, 5) (195987 filtered: None)\n",
      "[INFO][2022/01/13 06:25:41 PM] Closing HDF file: /home/nathan/data/kraken/ras/ND0009/Pos3/gfp_tracks.h5\n"
     ]
    }
   ],
   "source": [
    "with btrack.dataio.HDF5FileHandler(f'/home/nathan/data/kraken/ras/{expt}/{pos}/tracks.h5', 'r', obj_type='obj_type_2') as h:\n",
    "    rfp_tracks = h.tracks"
   ]
  },
  {
   "cell_type": "code",
   "execution_count": 8,
   "id": "43a9ba3c",
   "metadata": {},
   "outputs": [],
   "source": [
    "rfp_tracks, rfp_properties, rfp_graph = tracks_to_napari(rfp_tracks, ndim = 2)"
   ]
  },
  {
   "cell_type": "markdown",
   "id": "603b486b",
   "metadata": {},
   "source": [
    "# Launch viewer"
   ]
  },
  {
   "cell_type": "code",
   "execution_count": 12,
   "id": "8ffa3640",
   "metadata": {},
   "outputs": [
    {
     "data": {
      "text/plain": [
       "<Tracks layer 'gfp_tracks' at 0x7f2c4da63910>"
      ]
     },
     "execution_count": 12,
     "metadata": {},
     "output_type": "execute_result"
    }
   ],
   "source": [
    "viewer = napari.Viewer()\n",
    "viewer.add_image(gfp, name=\"gfp\", \n",
    "                 contrast_limits=[0,255],\n",
    "                 blending = 'additive', colormap = 'green')#, is_pyramid=False)\n",
    "viewer.add_image(rfp, name=\"rfp\", \n",
    "                 contrast_limits=[0,55], \n",
    "                 blending = 'additive', colormap = 'magenta')#, is_pyramid=False)\n",
    "viewer.add_image(irfp, name=\"irfp\", \n",
    "                 contrast_limits=[0,255], \n",
    "                 blending = 'additive', colormap = 'cyan')#\n",
    "viewer.add_image(masks, name = 'masks',\n",
    "                contrast_limits=[0,255],\n",
    "               blending = 'additive',)\n",
    "viewer.add_tracks(gfp_tracks)\n",
    "viewer.add_tracks(rfp_tracks)"
   ]
  }
 ],
 "metadata": {
  "kernelspec": {
   "display_name": "CellX",
   "language": "python",
   "name": "cellx"
  },
  "language_info": {
   "codemirror_mode": {
    "name": "ipython",
    "version": 3
   },
   "file_extension": ".py",
   "mimetype": "text/x-python",
   "name": "python",
   "nbconvert_exporter": "python",
   "pygments_lexer": "ipython3",
   "version": "3.9.7"
  }
 },
 "nbformat": 4,
 "nbformat_minor": 5
}
