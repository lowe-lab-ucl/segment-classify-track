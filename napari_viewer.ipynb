{
 "cells": [
  {
   "cell_type": "markdown",
   "id": "06cdd402",
   "metadata": {},
   "source": [
    "# Napari image viewer\n",
    "\n",
    "Uses the octopuslite dask image loader to automatically sort and load images from multichannel time lapse experiments. Can also use btrack to load associated tracks and segmentation images."
   ]
  },
  {
   "cell_type": "code",
   "execution_count": 1,
   "id": "34613fff",
   "metadata": {},
   "outputs": [],
   "source": [
    "import napari\n",
    "from octopuslite import DaskOctopusLiteLoader"
   ]
  },
  {
   "cell_type": "markdown",
   "id": "e2c999fd",
   "metadata": {},
   "source": [
    "### Simple view "
   ]
  },
  {
   "cell_type": "code",
   "execution_count": 44,
   "id": "7658fff7",
   "metadata": {
    "scrolled": true
   },
   "outputs": [
    {
     "name": "stdout",
     "output_type": "stream",
     "text": [
      "Using cropping: (1200, 1600)\n"
     ]
    }
   ],
   "source": [
    "images = DaskOctopusLiteLoader('/run/user/1000/gvfs/smb-share:server=lowe-sn00.biochem.ucl.ac.uk,share=lowegrp/Data/Nathan/kraken/ras/ND0006/Pos8', crop=(1200,1600))"
   ]
  },
  {
   "cell_type": "markdown",
   "id": "50471b91",
   "metadata": {},
   "source": [
    "# Cropping for sake of tests"
   ]
  },
  {
   "cell_type": "code",
   "execution_count": 45,
   "id": "d72360a7",
   "metadata": {},
   "outputs": [],
   "source": [
    "gfp = images['gfp'][0:300,:,:]\n",
    "rfp = images['rfp'][0:300,:,:]\n",
    "irfp = images['irfp'][0:300,:,:]"
   ]
  },
  {
   "cell_type": "code",
   "execution_count": 46,
   "id": "2dcd99cb",
   "metadata": {},
   "outputs": [
    {
     "data": {
      "text/plain": [
       "<Image layer 'irfp' at 0x7f6e39d4cf70>"
      ]
     },
     "execution_count": 46,
     "metadata": {},
     "output_type": "execute_result"
    }
   ],
   "source": [
    "viewer = napari.Viewer()\n",
    "#viewer.add_image(stack[0], name = \"brightfield\", contrast_limits=[0,200], blending = 'additive')#, is_pyramid=False)\n",
    "viewer.add_image(gfp, name=\"gfp\", \n",
    "                 #contrast_limits=[100,255],\n",
    "                 blending = 'additive', colormap = 'green')#, is_pyramid=False)\n",
    "viewer.add_image(rfp, name=\"rfp\", \n",
    "                 #contrast_limits=[0,30], \n",
    "                 blending = 'additive', colormap = 'magenta')#, is_pyramid=False)\n",
    "viewer.add_image(irfp, name=\"irfp\", \n",
    "                 contrast_limits=[0,255], \n",
    "                 blending = 'additive', colormap = 'cyan')#, is_pyramid=False)\n",
    "#viewer.add_image(seg['mask'], name = 'masks')\n",
    "#viewer.add_tracks(gfp_tracks)"
   ]
  },
  {
   "cell_type": "code",
   "execution_count": 31,
   "id": "d99be601",
   "metadata": {},
   "outputs": [
    {
     "data": {
      "text/plain": [
       "<Image layer 'irfp' at 0x7f6e70298a60>"
      ]
     },
     "execution_count": 31,
     "metadata": {},
     "output_type": "execute_result"
    }
   ],
   "source": [
    "viewer = napari.Viewer()\n",
    "#viewer.add_image(stack[0], name = \"brightfield\", contrast_limits=[0,200], blending = 'additive')#, is_pyramid=False)\n",
    "viewer.add_image(images['gfp'], name=\"gfp\", \n",
    "                 #contrast_limits=[100,255],\n",
    "                 blending = 'additive', colormap = 'green')#, is_pyramid=False)\n",
    "viewer.add_image(images['rfp'], name=\"rfp\", \n",
    "                 #contrast_limits=[0,30], \n",
    "                 blending = 'additive', colormap = 'magenta')#, is_pyramid=False)\n",
    "viewer.add_image(images['irfp'], name=\"irfp\", \n",
    "                 #contrast_limits=[0,255], \n",
    "                 blending = 'additive', colormap = 'cyan')#, is_pyramid=False)\n",
    "#viewer.add_image(seg['mask'], name = 'masks')\n",
    "#viewer.add_tracks(gfp_tracks)"
   ]
  },
  {
   "cell_type": "markdown",
   "id": "c99dbc34",
   "metadata": {},
   "source": [
    "### Add tracks"
   ]
  },
  {
   "cell_type": "code",
   "execution_count": 3,
   "id": "12f956c3",
   "metadata": {},
   "outputs": [
    {
     "name": "stdout",
     "output_type": "stream",
     "text": [
      "Using cropping: None\n"
     ]
    }
   ],
   "source": [
    "seg = DaskOctopusLiteLoader('/home/nathan/data/kraken/test/MK0003/Pos15/Pos15_stardist_masks')"
   ]
  },
  {
   "cell_type": "code",
   "execution_count": 4,
   "id": "d61b296d",
   "metadata": {},
   "outputs": [],
   "source": [
    "import btrack\n",
    "from btrack.utils import tracks_to_napari"
   ]
  },
  {
   "cell_type": "code",
   "execution_count": 8,
   "id": "9c802ee7",
   "metadata": {
    "scrolled": true
   },
   "outputs": [
    {
     "name": "stderr",
     "output_type": "stream",
     "text": [
      "[INFO][2021/11/18 03:11:53 pm] Opening HDF file: /home/nathan/data/kraken/test/MK0003/Pos15/tracking.h5...\n",
      "[INFO][2021/11/18 03:11:53 pm] Loading tracks/obj_type_1\n",
      "[INFO][2021/11/18 03:11:54 pm] Loading objects/obj_type_1 (77222, 5) (77222 filtered: None)\n",
      "[INFO][2021/11/18 03:11:56 pm] Closing HDF file: /home/nathan/data/kraken/test/MK0003/Pos15/tracking.h5\n"
     ]
    }
   ],
   "source": [
    "with btrack.dataio.HDF5FileHandler('/home/nathan/data/kraken/test/MK0003/Pos15/tracking.h5', 'r', obj_type='obj_type_1') as h:\n",
    "    gfp_tracks = h.tracks"
   ]
  },
  {
   "cell_type": "code",
   "execution_count": 9,
   "id": "2dfff42a",
   "metadata": {},
   "outputs": [],
   "source": [
    "gfp_tracks, properties, graph = tracks_to_napari(gfp_tracks, ndim = 2)"
   ]
  },
  {
   "cell_type": "markdown",
   "id": "0d907dda",
   "metadata": {},
   "source": [
    "### Concatenating sequential stacks"
   ]
  },
  {
   "cell_type": "code",
   "execution_count": 25,
   "id": "80fe674c",
   "metadata": {},
   "outputs": [
    {
     "name": "stdout",
     "output_type": "stream",
     "text": [
      "Using cropping: (1200, 1600)\n"
     ]
    }
   ],
   "source": [
    "images1 = DaskOctopusLiteLoader('/run/user/1000/gvfs/smb-share:server=lowe-sn00.biochem.ucl.ac.uk,share=lowegrp/Data/Nathan/kraken/ras/ND0007/Pos0', crop=(1200,1600))"
   ]
  },
  {
   "cell_type": "code",
   "execution_count": 14,
   "id": "1dcdca1a",
   "metadata": {},
   "outputs": [
    {
     "name": "stdout",
     "output_type": "stream",
     "text": [
      "Using cropping: (1200, 1600)\n"
     ]
    }
   ],
   "source": [
    "images_2 = DaskOctopusLiteLoader('/run/user/1000/gvfs/smb-share:server=lowe-sn00.biochem.ucl.ac.uk,share=lowegrp/Data/Nathan/kraken/ras/ND0008/Pos0', crop=(1200,1600))"
   ]
  },
  {
   "cell_type": "code",
   "execution_count": 26,
   "id": "5316c6d5",
   "metadata": {},
   "outputs": [],
   "source": [
    "import numpy as np\n",
    "rfp = np.concatenate((images0['rfp'],images1['rfp'], images_2['rfp']), axis = 0)\n",
    "gfp = np.concatenate((images0['gfp'],images1['gfp'], images_2['gfp']), axis = 0)\n",
    "irfp = np.concatenate((images0['irfp'],images1['irfp'], images_2['irfp']), axis = 0)"
   ]
  },
  {
   "cell_type": "code",
   "execution_count": 27,
   "id": "9bf4a4f5",
   "metadata": {},
   "outputs": [
    {
     "data": {
      "text/plain": [
       "<Image layer 'irfp' at 0x7f6e71c360d0>"
      ]
     },
     "execution_count": 27,
     "metadata": {},
     "output_type": "execute_result"
    }
   ],
   "source": [
    "viewer = napari.Viewer()\n",
    "#viewer.add_image(stack[0], name = \"brightfield\", contrast_limits=[0,200], blending = 'additive')#, is_pyramid=False)\n",
    "viewer.add_image(gfp, name=\"gfp\", \n",
    "                 #contrast_limits=[100,255],\n",
    "                 blending = 'additive', colormap = 'green')#, is_pyramid=False)\n",
    "viewer.add_image(rfp, name=\"rfp\", \n",
    "                 #contrast_limits=[0,30], \n",
    "                 blending = 'additive', colormap = 'magenta')#, is_pyramid=False)\n",
    "viewer.add_image(irfp, name=\"irfp\", \n",
    "                 contrast_limits=[0,255], \n",
    "                 blending = 'additive', colormap = 'cyan')#, is_pyramid=False)\n",
    "#viewer.add_image(seg['mask'], name = 'masks')\n",
    "#viewer.add_tracks(gfp_tracks)"
   ]
  }
 ],
 "metadata": {
  "kernelspec": {
   "display_name": "CellX",
   "language": "python",
   "name": "cellx"
  },
  "language_info": {
   "codemirror_mode": {
    "name": "ipython",
    "version": 3
   },
   "file_extension": ".py",
   "mimetype": "text/x-python",
   "name": "python",
   "nbconvert_exporter": "python",
   "pygments_lexer": "ipython3",
   "version": "3.9.6"
  }
 },
 "nbformat": 4,
 "nbformat_minor": 5
}
