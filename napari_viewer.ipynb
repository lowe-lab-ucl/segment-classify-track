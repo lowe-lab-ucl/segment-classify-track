{
 "cells": [
  {
   "cell_type": "code",
   "execution_count": 1,
   "id": "34613fff",
   "metadata": {},
   "outputs": [],
   "source": [
    "import napari\n",
    "from daskoctopus import DaskOctopusLiteLoader"
   ]
  },
  {
   "cell_type": "code",
   "execution_count": 2,
   "id": "7658fff7",
   "metadata": {
    "scrolled": true
   },
   "outputs": [
    {
     "name": "stdout",
     "output_type": "stream",
     "text": [
      "Using cropping: (1200, 1600)\n"
     ]
    }
   ],
   "source": [
    "images = DaskOctopusLiteLoader('/home/nathan/data/kraken/test/MK0003/Pos15/Pos15_raw', crop=(1200,1600))"
   ]
  },
  {
   "cell_type": "code",
   "execution_count": 3,
   "id": "12f956c3",
   "metadata": {},
   "outputs": [
    {
     "name": "stdout",
     "output_type": "stream",
     "text": [
      "Using cropping: None\n"
     ]
    }
   ],
   "source": [
    "seg = DaskOctopusLiteLoader('/home/nathan/data/kraken/test/MK0003/Pos15/Pos15_stardist_masks')"
   ]
  },
  {
   "cell_type": "code",
   "execution_count": 4,
   "id": "d61b296d",
   "metadata": {},
   "outputs": [],
   "source": [
    "import btrack\n",
    "from btrack.utils import tracks_to_napari"
   ]
  },
  {
   "cell_type": "code",
   "execution_count": 8,
   "id": "9c802ee7",
   "metadata": {},
   "outputs": [
    {
     "name": "stderr",
     "output_type": "stream",
     "text": [
      "[INFO][2021/11/18 03:11:53 pm] Opening HDF file: /home/nathan/data/kraken/test/MK0003/Pos15/tracking.h5...\n",
      "[INFO][2021/11/18 03:11:53 pm] Loading tracks/obj_type_1\n",
      "[INFO][2021/11/18 03:11:54 pm] Loading objects/obj_type_1 (77222, 5) (77222 filtered: None)\n",
      "[INFO][2021/11/18 03:11:56 pm] Closing HDF file: /home/nathan/data/kraken/test/MK0003/Pos15/tracking.h5\n"
     ]
    }
   ],
   "source": [
    "with btrack.dataio.HDF5FileHandler('/home/nathan/data/kraken/test/MK0003/Pos15/tracking.h5', 'r', obj_type='obj_type_1') as h:\n",
    "    gfp_tracks = h.tracks"
   ]
  },
  {
   "cell_type": "code",
   "execution_count": 9,
   "id": "2dfff42a",
   "metadata": {},
   "outputs": [],
   "source": [
    "gfp_tracks, properties, graph = tracks_to_napari(gfp_tracks, ndim = 2)"
   ]
  },
  {
   "cell_type": "code",
   "execution_count": 10,
   "id": "d99be601",
   "metadata": {},
   "outputs": [
    {
     "data": {
      "text/plain": [
       "<Tracks layer 'gfp_tracks' at 0x7fec4a2da190>"
      ]
     },
     "execution_count": 10,
     "metadata": {},
     "output_type": "execute_result"
    }
   ],
   "source": [
    "viewer = napari.Viewer()\n",
    "#viewer.add_image(stack[0], name = \"brightfield\", contrast_limits=[0,200], blending = 'additive')#, is_pyramid=False)\n",
    "viewer.add_image(images['gfp'], name=\"gfp\", contrast_limits=[100,255], blending = 'additive', colormap = 'green')#, is_pyramid=False)\n",
    "viewer.add_image(images['rfp'], name=\"rfp\", contrast_limits=[0,30], blending = 'additive', colormap = 'magenta')#, is_pyramid=False)\n",
    "viewer.add_image(images['irfp'], name=\"irfp\", contrast_limits=[0,255], blending = 'additive', colormap = 'cyan')#, is_pyramid=False)\n",
    "viewer.add_image(seg['mask'], name = 'masks')\n",
    "viewer.add_tracks(gfp_tracks)"
   ]
  }
 ],
 "metadata": {
  "kernelspec": {
   "display_name": "CellX",
   "language": "python",
   "name": "cellx"
  },
  "language_info": {
   "codemirror_mode": {
    "name": "ipython",
    "version": 3
   },
   "file_extension": ".py",
   "mimetype": "text/x-python",
   "name": "python",
   "nbconvert_exporter": "python",
   "pygments_lexer": "ipython3",
   "version": "3.9.6"
  }
 },
 "nbformat": 4,
 "nbformat_minor": 5
}
