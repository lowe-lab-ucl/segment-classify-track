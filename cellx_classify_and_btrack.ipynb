{
 "cells": [
  {
   "cell_type": "markdown",
   "id": "1cada0f4",
   "metadata": {},
   "source": [
    "# Phenotype classifcation using CellX \n",
    "\n",
    "This notebook shows how to take segmented time lapse microscopy images and use h2b fluorescence markers to classfiy mitotic state of the cell cycle. \n",
    "\n",
    "The sections of this notebook are as follows:\n",
    "\n",
    "1. Load images\n",
    "2. Localise the objects\n",
    "3. Classify the objects\n",
    "4. Filter the objects\n",
    "5. Run btrack, uniting the objects locations over time\n",
    "\n",
    "The data used in this notebook is timelapse microscopy data with h2b-gfp/rfp markers that show the spatial extent of the nucleus and it's mitotic state. \n",
    "\n",
    "This notebook uses the dask octopuslite image loader from the CellX/Lowe lab project."
   ]
  },
  {
   "cell_type": "code",
   "execution_count": 2,
   "id": "c311e3db",
   "metadata": {},
   "outputs": [],
   "source": [
    "from octopuslite import DaskOctopusLiteLoader, image_generator\n",
    "import btrack\n",
    "from tqdm import tqdm\n",
    "import numpy as np\n",
    "from scipy.special import softmax\n",
    "import os\n",
    "import matplotlib.pyplot as plt\n",
    "from skimage.io import imread, imshow\n",
    "%matplotlib inline\n",
    "plt.rcParams['figure.figsize'] = [18,8]"
   ]
  },
  {
   "cell_type": "code",
   "execution_count": 14,
   "id": "907a6f92",
   "metadata": {},
   "outputs": [],
   "source": [
    "def image_generator(files, crop = None):\n",
    "    \"\"\"Image generator for iterative procesess\"\"\"\n",
    "    #get dims\n",
    "    shape = imread(files[0]).shape\n",
    "    dims = imread(files[0]).ndim\n",
    "    if crop == None:\n",
    "        for filename in files:\n",
    "            img = imread(filename)\n",
    "            yield img\n",
    "    else:\n",
    "        cslice = lambda d: slice(\n",
    "            int((shape[d] - crop[d]) // 2),\n",
    "            int((shape[d] - crop[d]) // 2 + crop[d]))\n",
    "        crops = tuple([cslice(d) for d in range(dims)])\n",
    "        for filename in files:\n",
    "            img = imread(filename)[crops]\n",
    "            yield img"
   ]
  },
  {
   "cell_type": "markdown",
   "id": "28a5906f",
   "metadata": {},
   "source": [
    "## 1. Load segmentation images"
   ]
  },
  {
   "cell_type": "code",
   "execution_count": 84,
   "id": "67ee9d2e",
   "metadata": {},
   "outputs": [
    {
     "name": "stdout",
     "output_type": "stream",
     "text": [
      "Using cropping: (1200, 1600)\n"
     ]
    }
   ],
   "source": [
    "# load images\n",
    "expt = 'ND0011'\n",
    "pos = 'Pos6'\n",
    "root_dir = '/home/nathan/data'\n",
    "image_path = f'{root_dir}/{expt}/{pos}/{pos}_images'\n",
    "images = DaskOctopusLiteLoader(image_path, crop=(1200,1600), remove_background=False)\n",
    "## efficiently load segmentation images by providing the path to the generator function\n",
    "segmentation = image_generator(images.files('mask'), crop=(1200,1600))"
   ]
  },
  {
   "cell_type": "markdown",
   "id": "dfccac2e",
   "metadata": {},
   "source": [
    "## 2. Localise the objects"
   ]
  },
  {
   "cell_type": "code",
   "execution_count": 85,
   "id": "06e130c0",
   "metadata": {},
   "outputs": [
    {
     "name": "stderr",
     "output_type": "stream",
     "text": [
      "[INFO][2022/01/25 04:52:11 PM] Localizing objects from segmentation...\n",
      "[INFO][2022/01/25 04:53:22 PM] Objects are of type: <class 'dict'>\n",
      "[INFO][2022/01/25 04:53:24 PM] ...Found 327022 objects in 1638 frames.\n"
     ]
    }
   ],
   "source": [
    "objects = btrack.utils.segmentation_to_objects(\n",
    "    segmentation,\n",
    "    properties = ('area', ),\n",
    ")"
   ]
  },
  {
   "cell_type": "code",
   "execution_count": 83,
   "id": "edd32afd",
   "metadata": {},
   "outputs": [
    {
     "data": {
      "text/html": [
       "<table border=\"1\" class=\"dataframe\">\n",
       "  <thead>\n",
       "    <tr style=\"text-align: right;\">\n",
       "      <th></th>\n",
       "      <th>ID</th>\n",
       "      <th>x</th>\n",
       "      <th>y</th>\n",
       "      <th>z</th>\n",
       "      <th>t</th>\n",
       "      <th>dummy</th>\n",
       "      <th>states</th>\n",
       "      <th>label</th>\n",
       "      <th>prob</th>\n",
       "      <th>area</th>\n",
       "      <th>prob_interphase</th>\n",
       "      <th>prob_prometaphase</th>\n",
       "      <th>prob_metaphase</th>\n",
       "      <th>prob_anaphase</th>\n",
       "      <th>prob_apoptosis</th>\n",
       "    </tr>\n",
       "  </thead>\n",
       "  <tbody>\n",
       "    <tr>\n",
       "      <th>0</th>\n",
       "      <td>0</td>\n",
       "      <td>1410.627687</td>\n",
       "      <td>558.702494</td>\n",
       "      <td>0.0</td>\n",
       "      <td>0</td>\n",
       "      <td>False</td>\n",
       "      <td>0</td>\n",
       "      <td>0</td>\n",
       "      <td>0.0</td>\n",
       "      <td>1163</td>\n",
       "      <td>0.999992</td>\n",
       "      <td>3.588410e-09</td>\n",
       "      <td>6.128119e-10</td>\n",
       "      <td>1.724182e-10</td>\n",
       "      <td>0.000008</td>\n",
       "    </tr>\n",
       "  </tbody>\n",
       "</table>"
      ],
      "text/plain": [
       "{'ID': 0, 'x': 1410.627687016337, 'y': 558.7024935511608, 'z': 0.0, 't': 0, 'dummy': False, 'states': 0, 'label': 0, 'prob': 0.0, 'area': 1163, 'prob_interphase': 0.9999923, 'prob_prometaphase': 3.58841e-09, 'prob_metaphase': 6.1281186e-10, 'prob_anaphase': 1.7241819e-10, 'prob_apoptosis': 7.640319e-06}"
      ]
     },
     "execution_count": 83,
     "metadata": {},
     "output_type": "execute_result"
    }
   ],
   "source": [
    "objects[0]"
   ]
  },
  {
   "cell_type": "markdown",
   "id": "4fa49b7b",
   "metadata": {},
   "source": [
    "#### Can also assign measured values from raw image to each segment using `skimage.measure.regionprops` parameters\n",
    "But also need to load the raw images to be measured first and redefine the segmentation image generator as we are using again. Cannot currently save out `intensity_image` parameter to object file."
   ]
  },
  {
   "cell_type": "code",
   "execution_count": 82,
   "id": "a4548905",
   "metadata": {},
   "outputs": [
    {
     "name": "stderr",
     "output_type": "stream",
     "text": [
      "[INFO][2022/01/25 04:47:33 PM] Localizing objects from segmentation...\n",
      "[INFO][2022/01/25 04:47:33 PM] Found intensity_image data\n",
      "[INFO][2022/01/25 04:47:33 PM] Calculating weighted centroids using intensity_image\n",
      "[INFO][2022/01/25 04:52:07 PM] Objects are of type: <class 'dict'>\n",
      "[INFO][2022/01/25 04:52:10 PM] ...Found 327022 objects in 1638 frames.\n"
     ]
    }
   ],
   "source": [
    "irfp = image_generator(images.files('irfp'), crop=(1200,1600))\n",
    "segmentation = image_generator(images.files('mask'), crop=(1200,1600))\n",
    "detailed_objects = btrack.utils.segmentation_to_objects(\n",
    "    segmentation,\n",
    "    irfp,\n",
    "    properties = ('area', 'mean_intensity', 'intensity_image'), \n",
    ")"
   ]
  },
  {
   "cell_type": "code",
   "execution_count": 90,
   "id": "91e2efcf",
   "metadata": {},
   "outputs": [
    {
     "data": {
      "text/html": [
       "<table border=\"1\" class=\"dataframe\">\n",
       "  <thead>\n",
       "    <tr style=\"text-align: right;\">\n",
       "      <th></th>\n",
       "      <th>ID</th>\n",
       "      <th>x</th>\n",
       "      <th>y</th>\n",
       "      <th>z</th>\n",
       "      <th>t</th>\n",
       "      <th>dummy</th>\n",
       "      <th>states</th>\n",
       "      <th>label</th>\n",
       "      <th>prob</th>\n",
       "      <th>area</th>\n",
       "      <th>mean_intensity</th>\n",
       "      <th>intensity_image</th>\n",
       "    </tr>\n",
       "  </thead>\n",
       "  <tbody>\n",
       "    <tr>\n",
       "      <th>0</th>\n",
       "      <td>69</td>\n",
       "      <td>1517.610711</td>\n",
       "      <td>906.027849</td>\n",
       "      <td>0.0</td>\n",
       "      <td>1</td>\n",
       "      <td>False</td>\n",
       "      <td>0</td>\n",
       "      <td>5</td>\n",
       "      <td>0.0</td>\n",
       "      <td>1231</td>\n",
       "      <td>97.688871</td>\n",
       "      <td>(43, 35) array</td>\n",
       "    </tr>\n",
       "  </tbody>\n",
       "</table>"
      ],
      "text/plain": [
       "{'ID': 69, 'x': 1517.610710573365, 'y': 906.0278491538813, 'z': 0.0, 't': 1, 'dummy': False, 'states': 0, 'label': 5, 'prob': 0.0, 'area': 1231, 'mean_intensity': 97.68887083671811, 'intensity_image': array([[0, 0, 0, ..., 0, 0, 0],\n",
       "       [0, 0, 0, ..., 0, 0, 0],\n",
       "       [0, 0, 0, ..., 0, 0, 0],\n",
       "       ...,\n",
       "       [0, 0, 0, ..., 0, 0, 0],\n",
       "       [0, 0, 0, ..., 0, 0, 0],\n",
       "       [0, 0, 0, ..., 0, 0, 0]], dtype=uint8)}"
      ]
     },
     "execution_count": 90,
     "metadata": {},
     "output_type": "execute_result"
    }
   ],
   "source": [
    "detailed_objects[69]"
   ]
  },
  {
   "cell_type": "code",
   "execution_count": 95,
   "id": "03d3a75b",
   "metadata": {},
   "outputs": [
    {
     "data": {
      "text/plain": [
       "<matplotlib.image.AxesImage at 0x7fb780373c70>"
      ]
     },
     "execution_count": 95,
     "metadata": {},
     "output_type": "execute_result"
    },
    {
     "data": {
      "image/png": "[encoded data removed]",
      "text/plain": [
       "<Figure size 1296x576 with 1 Axes>"
      ]
     },
     "metadata": {
      "needs_background": "light"
     },
     "output_type": "display_data"
    }
   ],
   "source": [
    "# example image showing PCNA-iRFP morphology \n",
    "imshow(detailed_objects[69].properties['intensity_image'])"
   ]
  },
  {
   "cell_type": "markdown",
   "id": "cbc05b98",
   "metadata": {},
   "source": [
    "## 3. Classify the objects "
   ]
  },
  {
   "cell_type": "code",
   "execution_count": 58,
   "id": "10cd85e0",
   "metadata": {},
   "outputs": [],
   "source": [
    "from cellx import load_model\n",
    "from cellx.tools.image import InfinitePaddedImage\n",
    "from skimage.transform import resize\n",
    "\n",
    "model = load_model('./models/cellx_classifier_stardist.h5')"
   ]
  },
  {
   "cell_type": "code",
   "execution_count": 59,
   "id": "4bd5b60f",
   "metadata": {},
   "outputs": [],
   "source": [
    "LABELS = [\"interphase\", \"prometaphase\", \"metaphase\", \"anaphase\", \"apoptosis\"]"
   ]
  },
  {
   "cell_type": "code",
   "execution_count": 60,
   "id": "92d135ad",
   "metadata": {},
   "outputs": [],
   "source": [
    "def normalize_channels(x):\n",
    "\n",
    "    for dim in range(x.shape[-1]):\n",
    "        x[..., dim] = normalize(x[..., dim])\n",
    "        \n",
    "    return x\n",
    "\n",
    "def normalize(x):\n",
    "\n",
    "    xf = x.astype(np.float32)\n",
    "    mx = np.mean(xf)\n",
    "    sd = np.max([np.std(xf), 1./np.prod(x.shape)])\n",
    "\n",
    "    return (xf - mx) / sd"
   ]
  },
  {
   "cell_type": "code",
   "execution_count": 61,
   "id": "41184a4e",
   "metadata": {},
   "outputs": [],
   "source": [
    "def classify_objects(image, objects, obj_type=1):\n",
    "    labels = []\n",
    "    for n in tqdm(range(image.shape[0])):\n",
    "\n",
    "        _objects = [o for o in objects if o.t == n]\n",
    "\n",
    "        crops = []\n",
    "        to_update = []\n",
    "        \n",
    "        \n",
    "        fp = gfp if obj_type == 1 else rfp\n",
    "\n",
    "\n",
    "        frame = np.stack(\n",
    "            [image[n, ...].compute(), fp[n, ...].compute()], \n",
    "            axis=-1,\n",
    "        ) \n",
    "\n",
    "        vol = InfinitePaddedImage(frame, mode = 'reflect')\n",
    "\n",
    "        for obj in _objects:\n",
    "            xs = slice(int(obj.x-40), int(obj.x+40), 1)\n",
    "            ys = slice(int(obj.y-40), int(obj.y+40), 1)\n",
    "\n",
    "            crop = vol[ys, xs, :]\n",
    "            crop = resize(crop, (64, 64), preserve_range=True).astype(np.float32)\n",
    "\n",
    "            if crop.shape == (64 ,64, 2):\n",
    "                crops.append(normalize_channels(crop))\n",
    "                to_update.append(obj)\n",
    "            else:\n",
    "                print(crop.shape)\n",
    "\n",
    "        if not crops:\n",
    "            continue\n",
    "\n",
    "\n",
    "        pred = model.predict(np.stack(crops, axis=0))\n",
    "\n",
    "        assert pred.shape[0] == len(_objects)\n",
    "        for idx in range(pred.shape[0]):\n",
    "            obj = _objects[idx]\n",
    "\n",
    "            pred_label = np.argmax(pred[idx, ...])\n",
    "            pred_softmax = softmax(pred[idx, ...])\n",
    "\n",
    "            logits = {f\"prob_{k}\": pred_softmax[ki] for ki, k in enumerate(LABELS)}\n",
    "\n",
    "            obj.label = pred_label\n",
    "            obj.properties = logits\n",
    "            \n",
    "    return objects"
   ]
  },
  {
   "cell_type": "markdown",
   "id": "db8781b4",
   "metadata": {},
   "source": [
    "#### Load raw brightfield images for classifier"
   ]
  },
  {
   "cell_type": "code",
   "execution_count": 96,
   "id": "657771d0",
   "metadata": {},
   "outputs": [],
   "source": [
    "bf = images['brightfield']"
   ]
  },
  {
   "cell_type": "markdown",
   "id": "30835a86",
   "metadata": {},
   "source": [
    "#### Classify objects"
   ]
  },
  {
   "cell_type": "code",
   "execution_count": 97,
   "id": "420e84c8",
   "metadata": {},
   "outputs": [
    {
     "name": "stderr",
     "output_type": "stream",
     "text": [
      "100%|██████████| 1638/1638 [22:37<00:00,  1.21it/s]\n"
     ]
    }
   ],
   "source": [
    "objects = classify_objects(bf, objects, obj_type = 1)"
   ]
  },
  {
   "cell_type": "markdown",
   "id": "c70646be",
   "metadata": {},
   "source": [
    "#### Inspect an example object"
   ]
  },
  {
   "cell_type": "code",
   "execution_count": 111,
   "id": "aec4f611",
   "metadata": {},
   "outputs": [
    {
     "data": {
      "text/html": [
       "<table border=\"1\" class=\"dataframe\">\n",
       "  <thead>\n",
       "    <tr style=\"text-align: right;\">\n",
       "      <th></th>\n",
       "      <th>ID</th>\n",
       "      <th>x</th>\n",
       "      <th>y</th>\n",
       "      <th>z</th>\n",
       "      <th>t</th>\n",
       "      <th>dummy</th>\n",
       "      <th>states</th>\n",
       "      <th>label</th>\n",
       "      <th>prob</th>\n",
       "      <th>area</th>\n",
       "      <th>prob_interphase</th>\n",
       "      <th>prob_prometaphase</th>\n",
       "      <th>prob_metaphase</th>\n",
       "      <th>prob_anaphase</th>\n",
       "      <th>prob_apoptosis</th>\n",
       "    </tr>\n",
       "  </thead>\n",
       "  <tbody>\n",
       "    <tr>\n",
       "      <th>0</th>\n",
       "      <td>0</td>\n",
       "      <td>1410.627687</td>\n",
       "      <td>558.702494</td>\n",
       "      <td>0.0</td>\n",
       "      <td>0</td>\n",
       "      <td>False</td>\n",
       "      <td>0</td>\n",
       "      <td>0</td>\n",
       "      <td>0.0</td>\n",
       "      <td>1163</td>\n",
       "      <td>0.999992</td>\n",
       "      <td>3.588410e-09</td>\n",
       "      <td>6.128119e-10</td>\n",
       "      <td>1.724182e-10</td>\n",
       "      <td>0.000008</td>\n",
       "    </tr>\n",
       "  </tbody>\n",
       "</table>"
      ],
      "text/plain": [
       "{'ID': 0, 'x': 1410.627687016337, 'y': 558.7024935511608, 'z': 0.0, 't': 0, 'dummy': False, 'states': 0, 'label': 0, 'prob': 0.0, 'area': 1163, 'prob_interphase': 0.9999923, 'prob_prometaphase': 3.58841e-09, 'prob_metaphase': 6.1281186e-10, 'prob_anaphase': 1.7241819e-10, 'prob_apoptosis': 7.640319e-06}"
      ]
     },
     "execution_count": 111,
     "metadata": {},
     "output_type": "execute_result"
    }
   ],
   "source": [
    "objects[0]"
   ]
  },
  {
   "cell_type": "markdown",
   "id": "65c5c716",
   "metadata": {},
   "source": [
    "#### Save out classified objects"
   ]
  },
  {
   "cell_type": "code",
   "execution_count": 99,
   "id": "796afd43",
   "metadata": {},
   "outputs": [
    {
     "name": "stderr",
     "output_type": "stream",
     "text": [
      "[INFO][2022/01/25 05:17:30 PM] Opening HDF file: /home/nathan/data/ND0011/Pos6/segmented.h5...\n",
      "[INFO][2022/01/25 05:20:21 PM] Writing objects/obj_type_1\n",
      "[INFO][2022/01/25 05:20:22 PM] Writing labels/obj_type_1\n",
      "[INFO][2022/01/25 05:20:22 PM] Loading objects/obj_type_1 (327022, 5) (327022 filtered: None)\n",
      "[INFO][2022/01/25 05:20:25 PM] Writing properties/obj_type_1/area (327022,)\n",
      "[INFO][2022/01/25 05:20:25 PM] Writing properties/obj_type_1/prob_interphase (327022,)\n",
      "[INFO][2022/01/25 05:20:25 PM] Writing properties/obj_type_1/prob_prometaphase (327022,)\n",
      "[INFO][2022/01/25 05:20:25 PM] Writing properties/obj_type_1/prob_metaphase (327022,)\n",
      "[INFO][2022/01/25 05:20:25 PM] Writing properties/obj_type_1/prob_anaphase (327022,)\n",
      "[INFO][2022/01/25 05:20:26 PM] Writing properties/obj_type_1/prob_apoptosis (327022,)\n",
      "[INFO][2022/01/25 05:20:26 PM] Closing HDF file: /home/nathan/data/ND0011/Pos6/segmented.h5\n"
     ]
    }
   ],
   "source": [
    "with btrack.dataio.HDF5FileHandler(\n",
    "     f'{root_dir}/{expt}/{pos}/segmented.h5'), 'w', obj_type='obj_type_1',\n",
    ") as hdf:\n",
    "    hdf.write_segmentation(images['mask'])\n",
    "    hdf.write_objects(objects)"
   ]
  },
  {
   "cell_type": "markdown",
   "id": "59b1696a",
   "metadata": {},
   "source": [
    "## 4. Filter the objects \n",
    "\n",
    "Excluding segments that are too small to feasibly be cells"
   ]
  },
  {
   "cell_type": "code",
   "execution_count": 109,
   "id": "62f660dc",
   "metadata": {},
   "outputs": [],
   "source": [
    "objects = [o for o in objects if o.properties['area']>100.]"
   ]
  },
  {
   "cell_type": "code",
   "execution_count": 112,
   "id": "6d097d6b",
   "metadata": {},
   "outputs": [
    {
     "data": {
      "text/plain": [
       "['MDCK_config_new.json',\n",
       " 'MDCK_config_wildtype.json',\n",
       " 'stardist_multiclass_MDCK',\n",
       " 'stardist_singleclass_MDCK',\n",
       " 'MDCK_config_wildtype_dense.json',\n",
       " 'cellx_classifier_stardist.h5',\n",
       " 'json_example.json',\n",
       " 'README.md',\n",
       " 'MDCK_config_scribble_sparse.json']"
      ]
     },
     "execution_count": 112,
     "metadata": {},
     "output_type": "execute_result"
    }
   ],
   "source": [
    "os.listdir('./models/')"
   ]
  },
  {
   "cell_type": "markdown",
   "id": "e64ac4ae",
   "metadata": {},
   "source": [
    "## 5. Run btrack  \n",
    "\n",
    "Unite each object with it's subsequent position at the following time point and export as a tracking file"
   ]
  },
  {
   "cell_type": "code",
   "execution_count": 113,
   "id": "bdb6623e",
   "metadata": {
    "scrolled": true
   },
   "outputs": [
    {
     "name": "stderr",
     "output_type": "stream",
     "text": [
      "[INFO][2022/01/25 06:03:14 PM] Loaded btrack: /home/nathan/analysis/BayesianTracker/btrack/libs/libtracker.so\n",
      "[INFO][2022/01/25 06:03:14 PM] btrack (v0.4.3) library imported\n",
      "[INFO][2022/01/25 06:03:14 PM] Setting max XYZ search radius to: 100\n",
      "[INFO][2022/01/25 06:03:14 PM] Starting BayesianTracker session\n",
      "[INFO][2022/01/25 06:03:14 PM] Loading configuration file: ./models/MDCK_config_wildtype.json\n",
      "[INFO][2022/01/25 06:03:14 PM] Loading motion model: b'MDCK_motion'\n",
      "[INFO][2022/01/25 06:03:14 PM] Setting max XYZ search radius to: 40\n",
      "[INFO][2022/01/25 06:03:14 PM] Objects are of type: <class 'list'>\n",
      "[INFO][2022/01/25 06:03:15 PM] Set volume to ((0, 1200), (0, 1600), (-100000.0, 100000.0))\n",
      "[INFO][2022/01/25 06:03:15 PM] Starting tracking... \n",
      "[INFO][2022/01/25 06:03:15 PM] Tracking objects in frames 0 to 99 (of 1638)...\n",
      "[INFO][2022/01/25 06:03:15 PM]  - Timing (Bayesian updates: 0.52ms, Linking: 0.16ms)\n",
      "[INFO][2022/01/25 06:03:15 PM]  - Probabilities (Link: 0.99997, Lost: 0.92068)\n",
      "[INFO][2022/01/25 06:03:15 PM]  - Stats (Active: 49, Lost: 946, Conflicts resolved: 581)\n",
      "[INFO][2022/01/25 06:03:15 PM] Tracking objects in frames 100 to 199 (of 1638)...\n",
      "[INFO][2022/01/25 06:03:15 PM]  - Timing (Bayesian updates: 0.66ms, Linking: 0.18ms)\n",
      "[INFO][2022/01/25 06:03:15 PM]  - Probabilities (Link: 0.99051, Lost: 1.00000)\n",
      "[INFO][2022/01/25 06:03:15 PM]  - Stats (Active: 52, Lost: 1401, Conflicts resolved: 786)\n",
      "[INFO][2022/01/25 06:03:15 PM] Tracking objects in frames 200 to 299 (of 1638)...\n",
      "[INFO][2022/01/25 06:03:15 PM]  - Timing (Bayesian updates: 0.94ms, Linking: 0.22ms)\n",
      "[INFO][2022/01/25 06:03:15 PM]  - Probabilities (Link: 1.00000, Lost: 0.69318)\n",
      "[INFO][2022/01/25 06:03:15 PM]  - Stats (Active: 65, Lost: 1716, Conflicts resolved: 954)\n",
      "[INFO][2022/01/25 06:03:15 PM] Tracking objects in frames 300 to 399 (of 1638)...\n",
      "[INFO][2022/01/25 06:03:16 PM]  - Timing (Bayesian updates: 1.08ms, Linking: 0.26ms)\n",
      "[INFO][2022/01/25 06:03:16 PM]  - Probabilities (Link: 0.99598, Lost: 0.48261)\n",
      "[INFO][2022/01/25 06:03:16 PM]  - Stats (Active: 66, Lost: 2308, Conflicts resolved: 1315)\n",
      "[INFO][2022/01/25 06:03:16 PM] Tracking objects in frames 400 to 499 (of 1638)...\n",
      "[INFO][2022/01/25 06:03:16 PM]  - Timing (Bayesian updates: 1.61ms, Linking: 0.25ms)\n",
      "[INFO][2022/01/25 06:03:16 PM]  - Probabilities (Link: 0.99999, Lost: 1.00000)\n",
      "[INFO][2022/01/25 06:03:16 PM]  - Stats (Active: 79, Lost: 3204, Conflicts resolved: 1907)\n",
      "[INFO][2022/01/25 06:03:16 PM] Tracking objects in frames 500 to 599 (of 1638)...\n",
      "[INFO][2022/01/25 06:03:16 PM]  - Timing (Bayesian updates: 3.15ms, Linking: 0.38ms)\n",
      "[INFO][2022/01/25 06:03:16 PM]  - Probabilities (Link: 1.00000, Lost: 0.16302)\n",
      "[INFO][2022/01/25 06:03:16 PM]  - Stats (Active: 109, Lost: 3932, Conflicts resolved: 2273)\n",
      "[INFO][2022/01/25 06:03:16 PM] Tracking objects in frames 600 to 699 (of 1638)...\n",
      "[INFO][2022/01/25 06:03:17 PM]  - Timing (Bayesian updates: 3.49ms, Linking: 0.40ms)\n",
      "[INFO][2022/01/25 06:03:17 PM]  - Probabilities (Link: 1.00000, Lost: 0.75622)\n",
      "[INFO][2022/01/25 06:03:17 PM]  - Stats (Active: 112, Lost: 4632, Conflicts resolved: 2608)\n",
      "[INFO][2022/01/25 06:03:17 PM] Tracking objects in frames 700 to 799 (of 1638)...\n",
      "[INFO][2022/01/25 06:03:18 PM]  - Timing (Bayesian updates: 7.13ms, Linking: 0.55ms)\n",
      "[INFO][2022/01/25 06:03:18 PM]  - Probabilities (Link: 1.00000, Lost: 1.00000)\n",
      "[INFO][2022/01/25 06:03:18 PM]  - Stats (Active: 167, Lost: 6190, Conflicts resolved: 3591)\n",
      "[INFO][2022/01/25 06:03:18 PM] Tracking objects in frames 800 to 899 (of 1638)...\n",
      "[INFO][2022/01/25 06:03:19 PM]  - Timing (Bayesian updates: 8.12ms, Linking: 0.60ms)\n",
      "[INFO][2022/01/25 06:03:19 PM]  - Probabilities (Link: 1.00000, Lost: 1.00000)\n",
      "[INFO][2022/01/25 06:03:19 PM]  - Stats (Active: 170, Lost: 7415, Conflicts resolved: 4124)\n",
      "[INFO][2022/01/25 06:03:19 PM] Tracking objects in frames 900 to 999 (of 1638)...\n",
      "[INFO][2022/01/25 06:03:20 PM]  - Timing (Bayesian updates: 11.88ms, Linking: 0.69ms)\n",
      "[INFO][2022/01/25 06:03:20 PM]  - Probabilities (Link: 1.00000, Lost: 1.00000)\n",
      "[INFO][2022/01/25 06:03:20 PM]  - Stats (Active: 203, Lost: 9211, Conflicts resolved: 5198)\n",
      "[INFO][2022/01/25 06:03:20 PM] Tracking objects in frames 1000 to 1099 (of 1638)...\n",
      "[INFO][2022/01/25 06:03:22 PM]  - Timing (Bayesian updates: 15.10ms, Linking: 0.91ms)\n",
      "[INFO][2022/01/25 06:03:22 PM]  - Probabilities (Link: 0.99972, Lost: 1.00000)\n",
      "[INFO][2022/01/25 06:03:22 PM]  - Stats (Active: 218, Lost: 11066, Conflicts resolved: 6277)\n",
      "[INFO][2022/01/25 06:03:22 PM] Tracking objects in frames 1100 to 1199 (of 1638)...\n",
      "[INFO][2022/01/25 06:03:25 PM]  - Timing (Bayesian updates: 17.94ms, Linking: 0.81ms)\n",
      "[INFO][2022/01/25 06:03:25 PM]  - Probabilities (Link: 0.99999, Lost: 1.00000)\n",
      "[INFO][2022/01/25 06:03:25 PM]  - Stats (Active: 231, Lost: 12842, Conflicts resolved: 7331)\n",
      "[INFO][2022/01/25 06:03:25 PM] Tracking objects in frames 1200 to 1299 (of 1638)...\n",
      "[INFO][2022/01/25 06:03:27 PM]  - Timing (Bayesian updates: 19.67ms, Linking: 1.01ms)\n",
      "[INFO][2022/01/25 06:03:27 PM]  - Probabilities (Link: 0.99868, Lost: 0.99474)\n",
      "[INFO][2022/01/25 06:03:27 PM]  - Stats (Active: 239, Lost: 15015, Conflicts resolved: 8840)\n",
      "[INFO][2022/01/25 06:03:27 PM] Tracking objects in frames 1300 to 1399 (of 1638)...\n",
      "[INFO][2022/01/25 06:03:30 PM]  - Timing (Bayesian updates: 20.48ms, Linking: 0.90ms)\n",
      "[INFO][2022/01/25 06:03:30 PM]  - Probabilities (Link: 0.99999, Lost: 0.40925)\n",
      "[INFO][2022/01/25 06:03:30 PM]  - Stats (Active: 243, Lost: 16309, Conflicts resolved: 9588)\n",
      "[INFO][2022/01/25 06:03:30 PM] Tracking objects in frames 1400 to 1499 (of 1638)...\n",
      "[INFO][2022/01/25 06:03:34 PM]  - Timing (Bayesian updates: 25.06ms, Linking: 1.03ms)\n",
      "[INFO][2022/01/25 06:03:34 PM]  - Probabilities (Link: 1.00000, Lost: 0.70622)\n",
      "[INFO][2022/01/25 06:03:34 PM]  - Stats (Active: 268, Lost: 17828, Conflicts resolved: 10566)\n",
      "[INFO][2022/01/25 06:03:34 PM] Tracking objects in frames 1500 to 1599 (of 1638)...\n",
      "[INFO][2022/01/25 06:03:38 PM]  - Timing (Bayesian updates: 30.42ms, Linking: 1.15ms)\n",
      "[INFO][2022/01/25 06:03:38 PM]  - Probabilities (Link: 1.00000, Lost: 1.00000)\n",
      "[INFO][2022/01/25 06:03:38 PM]  - Stats (Active: 308, Lost: 21093, Conflicts resolved: 12707)\n",
      "[INFO][2022/01/25 06:03:38 PM] Tracking objects in frames 1600 to 1638 (of 1638)...\n",
      "[INFO][2022/01/25 06:03:39 PM]  - Timing (Bayesian updates: 27.98ms, Linking: 1.12ms)\n",
      "[INFO][2022/01/25 06:03:39 PM]  - Probabilities (Link: 1.00000, Lost: 1.00000)\n",
      "[INFO][2022/01/25 06:03:39 PM] SUCCESS.\n",
      "[INFO][2022/01/25 06:03:39 PM]  - Found 97405 tracks in 1638 frames (in 0.0s)\n",
      "[INFO][2022/01/25 06:03:40 PM]  - Inserted 4148 dummy objects to fill tracking gaps\n",
      "[INFO][2022/01/25 06:03:40 PM] Loading hypothesis model: MDCK_hypothesis_wildtype\n",
      "[INFO][2022/01/25 06:03:40 PM] Calculating hypotheses (relax: True)...\n",
      "[INFO][2022/01/25 06:03:42 PM] Setting up constraints matrix for global optimisation...\n",
      "[INFO][2022/01/25 06:09:02 PM] Optimizing...\n",
      "[INFO][2022/01/25 06:10:33 PM] Optimization complete. (Solution: optimal)\n",
      "[INFO][2022/01/25 06:10:34 PM]  - Fates.FALSE_POSITIVE: 1365 (of 97405)\n",
      "[INFO][2022/01/25 06:10:34 PM]  - Fates.LINK: 2722 (of 235480)\n",
      "[INFO][2022/01/25 06:10:34 PM]  - Fates.DIVIDE: 275 (of 229815)\n",
      "[INFO][2022/01/25 06:10:34 PM]  - Fates.APOPTOSIS: 169 (of 257)\n",
      "[INFO][2022/01/25 06:10:34 PM]  - Fates.INITIALIZE_BORDER: 91661 (of 91943)\n",
      "[INFO][2022/01/25 06:10:34 PM]  - Fates.INITIALIZE_FRONT: 45 (of 50)\n",
      "[INFO][2022/01/25 06:10:34 PM]  - Fates.INITIALIZE_LAZY: 1062 (of 5412)\n",
      "[INFO][2022/01/25 06:10:34 PM]  - Fates.TERMINATE_BORDER: 91654 (of 91932)\n",
      "[INFO][2022/01/25 06:10:34 PM]  - Fates.TERMINATE_BACK: 244 (of 281)\n",
      "[INFO][2022/01/25 06:10:34 PM]  - Fates.TERMINATE_LAZY: 976 (of 5192)\n",
      "[INFO][2022/01/25 06:10:34 PM]  - TOTAL: 757767 hypotheses\n",
      "[INFO][2022/01/25 06:10:34 PM] Completed optimization with 94683 tracks\n",
      "[INFO][2022/01/25 06:10:35 PM] Opening HDF file: /home/nathan/data/ND0011/Pos6/tracks.h5...\n",
      "[INFO][2022/01/25 06:10:40 PM] Writing tracks/obj_type_1\n",
      "[WARNING][2022/01/25 06:10:40 PM] Removing tracks/obj_type_1.\n",
      "[INFO][2022/01/25 06:10:40 PM] Writing dummies/obj_type_1\n",
      "[INFO][2022/01/25 06:10:40 PM] Writing LBEP/obj_type_1\n",
      "[INFO][2022/01/25 06:10:40 PM] Writing fates/obj_type_1\n",
      "[INFO][2022/01/25 06:10:43 PM] Closing HDF file: /home/nathan/data/ND0011/Pos6/tracks.h5\n"
     ]
    },
    {
     "name": "stderr",
     "output_type": "stream",
     "text": [
      "[INFO][2022/01/25 06:10:53 PM] Ending BayesianTracker session\n"
     ]
    }
   ],
   "source": [
    "# initialise a tracker session using a context manager\n",
    "with btrack.BayesianTracker() as tracker:\n",
    "\n",
    "    # configure the tracker using a config file\n",
    "    tracker.configure_from_file(\n",
    "        './models/MDCK_config_wildtype.json'\n",
    "    )\n",
    "    tracker.max_search_radius = 40\n",
    "\n",
    "    # append the objects to be tracked\n",
    "    tracker.append(objects)\n",
    "\n",
    "    # set the volume\n",
    "    tracker.volume=((0, 1200), (0, 1600), (-1e5, 1e5))\n",
    "\n",
    "    # track them (in interactive mode)\n",
    "    tracker.track_interactive(step_size=100)\n",
    "\n",
    "    # generate hypotheses and run the global optimizer\n",
    "    tracker.optimize()\n",
    "\n",
    "    tracker.export(f'{root_dir}/{expt}/{pos}/tracks.h5', obj_type='obj_type_1')\n",
    "\n",
    "    # get the tracks in a format for napari visualization (optional)\n",
    "    visaulise_tracks, properties, graph = tracker.to_napari(ndim=2)\n",
    "    \n",
    "    tracks = tracker.tracks"
   ]
  }
 ],
 "metadata": {
  "kernelspec": {
   "display_name": "CellX",
   "language": "python",
   "name": "cellx"
  }
 },
 "nbformat": 4,
 "nbformat_minor": 5
}
