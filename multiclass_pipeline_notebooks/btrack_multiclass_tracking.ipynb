{
 "cells": [
  {
   "cell_type": "markdown",
   "id": "1cada0f4",
   "metadata": {},
   "source": [
    "# Object tracking using Bayesian Tracker\n",
    "\n",
    "This notebook shows how to previously localised and classified objects from a series of mask images and unite them over time using Bayesian multi-object tracking (btrack). \n",
    "\n",
    "The sections of this notebook are as follows:\n",
    "\n",
    "1. Load segmentation objects and filter based on size\n",
    "2. Run btrack, uniting the objects locations over time\n",
    "3. Batch process\n",
    "\n",
    "The data used in this notebook is timelapse microscopy data with h2b-gfp/rfp markers that show the spatial extent of the nucleus and it's mitotic state. "
   ]
  },
  {
   "cell_type": "code",
   "execution_count": 1,
   "id": "c311e3db",
   "metadata": {},
   "outputs": [],
   "source": [
    "import btrack\n",
    "from tqdm.auto import tqdm\n",
    "import os\n",
    "import glob"
   ]
  },
  {
   "cell_type": "markdown",
   "id": "28a5906f",
   "metadata": {},
   "source": [
    "## 1. Load segmentation objects"
   ]
  },
  {
   "cell_type": "code",
   "execution_count": 2,
   "id": "67ee9d2e",
   "metadata": {},
   "outputs": [],
   "source": [
    "expt = 'ND0011'\n",
    "pos = 'Pos6'\n",
    "root_dir = '/home/nathan/data'"
   ]
  },
  {
   "cell_type": "code",
   "execution_count": null,
   "id": "c022ba17",
   "metadata": {},
   "outputs": [],
   "source": [
    "with btrack.dataio.HDF5FileHandler(\n",
    "     f'{root_dir}/{expt}/{pos}/objects_type_1.h5', 'r', obj_type='obj_type_1',\n",
    ") as hdf:\n",
    "    objects_gfp = hdf.objects\n",
    "with btrack.dataio.HDF5FileHandler(\n",
    "     f'{root_dir}/{expt}/{pos}/objects_type_2.h5', 'r', obj_type='obj_type_2',\n",
    ") as hdf:\n",
    "    objects_rfp = hdf.objects"
   ]
  },
  {
   "cell_type": "markdown",
   "id": "18ccc69d",
   "metadata": {},
   "source": [
    "Check objects feature classification"
   ]
  },
  {
   "cell_type": "code",
   "execution_count": null,
   "id": "8ddaf9d0",
   "metadata": {},
   "outputs": [],
   "source": [
    "objects[0]"
   ]
  },
  {
   "cell_type": "markdown",
   "id": "59b1696a",
   "metadata": {},
   "source": [
    "Excluding segments that are too small to feasibly be cells"
   ]
  },
  {
   "cell_type": "code",
   "execution_count": 109,
   "id": "62f660dc",
   "metadata": {},
   "outputs": [],
   "source": [
    "objects = [o for o in objects if o.properties['area']>100.]"
   ]
  },
  {
   "cell_type": "markdown",
   "id": "e64ac4ae",
   "metadata": {},
   "source": [
    "## 2. Run btrack  \n",
    "\n",
    "Unite each object with it's subsequent position at the following time point and export as a tracking file. Note that you may need different btrack configurations for different populations."
   ]
  },
  {
   "cell_type": "markdown",
   "id": "e456e142",
   "metadata": {},
   "source": [
    "#### For GFP objects"
   ]
  },
  {
   "cell_type": "code",
   "execution_count": null,
   "id": "bdb6623e",
   "metadata": {
    "scrolled": false
   },
   "outputs": [],
   "source": [
    "# initialise a tracker session using a context manager\n",
    "with btrack.BayesianTracker() as tracker:\n",
    "\n",
    "    # configure the tracker using a config file\n",
    "    tracker.configure_from_file(\n",
    "        './models/MDCK_config_wildtype.json'\n",
    "    )\n",
    "    tracker.max_search_radius = 40\n",
    "\n",
    "    # append the objects to be tracked\n",
    "    tracker.append(objects_gfp)\n",
    "\n",
    "    # set the volume\n",
    "    tracker.volume=((0, 1200), (0, 1600), (-1e5, 1e5))\n",
    "\n",
    "    # track them (in interactive mode)\n",
    "    tracker.track_interactive(step_size=100)\n",
    "\n",
    "    # generate hypotheses and run the global optimizer\n",
    "    tracker.optimize()\n",
    "\n",
    "    tracker.export(f'{root_dir}/{expt}/{pos}/tracks_type_1.h5', obj_type='obj_type_1')\n",
    "\n",
    "    # get the tracks in a format for napari visualization (optional)\n",
    "    visaulise_tracks, properties, graph = tracker.to_napari(ndim=2)\n",
    "    \n",
    "    gfp_tracks = tracker.tracks"
   ]
  },
  {
   "cell_type": "markdown",
   "id": "3e418844",
   "metadata": {},
   "source": [
    "#### For RFP objects"
   ]
  },
  {
   "cell_type": "code",
   "execution_count": null,
   "id": "a76bb469",
   "metadata": {},
   "outputs": [],
   "source": [
    "# initialise a tracker session using a context manager\n",
    "with btrack.BayesianTracker() as tracker:\n",
    "\n",
    "    # configure the tracker using a config file\n",
    "    tracker.configure_from_file(\n",
    "        './models/MDCK_config_scribble_sparse.json'\n",
    "    )\n",
    "    tracker.max_search_radius = 40\n",
    "\n",
    "    # append the objects to be tracked\n",
    "    tracker.append(objects_rfp)\n",
    "\n",
    "    # set the volume\n",
    "    tracker.volume=((0, 1200), (0, 1600), (-1e5, 1e5))\n",
    "\n",
    "    # track them (in interactive mode)\n",
    "    tracker.track_interactive(step_size=100)\n",
    "\n",
    "    # generate hypotheses and run the global optimizer\n",
    "    tracker.optimize()\n",
    "\n",
    "    tracker.export(f'{root_dir}/{expt}/{pos}/tracks_type_2.h5', obj_type='obj_type_2')\n",
    "\n",
    "    # get the tracks in a format for napari visualization (optional)\n",
    "    visaulise_tracks, properties, graph = tracker.to_napari(ndim=2)\n",
    "    \n",
    "    rfp_tracks = tracker.tracks"
   ]
  },
  {
   "cell_type": "markdown",
   "id": "1b2e10e7",
   "metadata": {},
   "source": [
    "# 6. Batch process\n",
    "Iterate over many experiments and positions (need to ensure you define normalisation and classification functions above first)"
   ]
  },
  {
   "cell_type": "code",
   "execution_count": null,
   "id": "b1792133",
   "metadata": {},
   "outputs": [],
   "source": [
    "root_dir = '/home/nathan/data'\n",
    "expt_list = ['ND0009', 'ND0010', 'ND0011']\n",
    "pos_list = 'all'\n",
    "overwrite = False\n",
    "\n",
    "for expt in tqdm(expt_list):\n",
    "    \n",
    "        # Find all positions in that experiment, if pos_list is all then it finds all positions\n",
    "        if pos_list == 'all':\n",
    "            pos_list = [pos for pos in os.listdir(f'{root_dir}/{expt}') \n",
    "                    if 'Pos' in pos \n",
    "                    and os.path.isdir(f'{root_dir}/{expt}/{pos}')]  \n",
    "            \n",
    "        ### Iterate over all positions in that experiment\n",
    "        for pos in tqdm(pos_list):\n",
    "            \n",
    "            ### check if overwrite param is false check if raw directory already created and if type of transform file already exists and decide whether to skip pos\n",
    "            if not overwrite and glob.glob(f'{root_dir}/{expt}/{pos}/*tracks*.h5'):\n",
    "                print(glob.glob(f'{root_dir}/{expt}/{pos}/*tracks*.h5'), f'file found, skipping {expt}/{pos}')\n",
    "                continue\n",
    "                \n",
    "            print(f'Starting {expt}/{pos}')\n",
    "            # load gfp objects\n",
    "            with btrack.dataio.HDF5FileHandler(\n",
    "                 f'{root_dir}/{expt}/{pos}/objects_type_1.h5', 'r', obj_type='obj_type_1',\n",
    "            ) as hdf:\n",
    "                objects_gfp = hdf.objects\n",
    "            # load rfp objects\n",
    "            with btrack.dataio.HDF5FileHandler(\n",
    "                 f'{root_dir}/{expt}/{pos}/objects_type_2.h5', 'r', obj_type='obj_type_2',\n",
    "            ) as hdf:\n",
    "                objects_rfp = hdf.objects\n",
    "            \n",
    "            # filter objects for non-cell type sizes\n",
    "            objects_gfp = [o for o in objects_gfp if o.properties['area']>100.]\n",
    "            objects_rfp = [o for o in objects_rfp if o.properties['area']>100.]\n",
    "            \n",
    "            # initialise a tracker session using a context manager for gfp\n",
    "            with btrack.BayesianTracker() as tracker:\n",
    "\n",
    "                # configure the tracker using a config file\n",
    "                tracker.configure_from_file(\n",
    "                    './models/MDCK_config_wildtype.json'\n",
    "                )\n",
    "                tracker.max_search_radius = 40\n",
    "\n",
    "                # append the objects to be tracked\n",
    "                tracker.append(objects_gfp)\n",
    "\n",
    "                # set the volume\n",
    "                tracker.volume=((0, 1200), (0, 1600), (-1e5, 1e5))\n",
    "\n",
    "                # track them (in interactive mode)\n",
    "                tracker.track_interactive(step_size=100)\n",
    "\n",
    "                # generate hypotheses and run the global optimizer\n",
    "                tracker.optimize()\n",
    "\n",
    "                tracker.export(f'{root_dir}/{expt}/{pos}/tracks_type_1.h5', obj_type='obj_type_1')\n",
    "\n",
    "            # initialise a tracker session using a context manager for rfp\n",
    "            with btrack.BayesianTracker() as tracker:\n",
    "\n",
    "                # configure the tracker using a config file\n",
    "                tracker.configure_from_file(\n",
    "                    './models/.json'\n",
    "                )\n",
    "                tracker.max_search_radius = 40\n",
    "\n",
    "                # append the objects to be tracked\n",
    "                tracker.append(objects_rfp)\n",
    "\n",
    "                # set the volume\n",
    "                tracker.volume=((0, 1200), (0, 1600), (-1e5, 1e5))\n",
    "\n",
    "                # track them (in interactive mode)\n",
    "                tracker.track_interactive(step_size=100)\n",
    "\n",
    "                # generate hypotheses and run the global optimizer\n",
    "                tracker.optimize()\n",
    "\n",
    "                tracker.export(f'{root_dir}/{expt}/{pos}/tracks_type_2.h5', obj_type='obj_type_2')\n",
    "                \n",
    "            print(f'Finished {expt}/{pos}')"
   ]
  }
 ],
 "metadata": {
  "kernelspec": {
   "display_name": "CellX",
   "language": "python",
   "name": "cellx"
  },
  "language_info": {
   "codemirror_mode": {
    "name": "ipython",
    "version": 3
   },
   "file_extension": ".py",
   "mimetype": "text/x-python",
   "name": "python",
   "nbconvert_exporter": "python",
   "pygments_lexer": "ipython3",
   "version": "3.9.7"
  }
 },
 "nbformat": 4,
 "nbformat_minor": 5
}
